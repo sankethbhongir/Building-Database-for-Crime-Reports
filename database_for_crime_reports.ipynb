{
 "cells": [
  {
   "cell_type": "markdown",
   "metadata": {},
   "source": [
    "# Building Database for crime reports\n",
    "The goal of this project is to create a database named *crimes_db* with a table *boston_crimes* with appropriate datatypes for storing the data from the boston.csv file. We'll be creating the table inside a schema named *crimes*. We'll also create the *readonly* and *readwrite* groups with the appropriate privileges. Finally, we will also need to create one user for each of these groups."
   ]
  },
  {
   "cell_type": "code",
   "execution_count": null,
   "metadata": {},
   "outputs": [],
   "source": []
  }
 ],
 "metadata": {
  "kernelspec": {
   "display_name": "Python 3",
   "language": "python",
   "name": "python3"
  },
  "language_info": {
   "codemirror_mode": {
    "name": "ipython",
    "version": 3
   },
   "file_extension": ".py",
   "mimetype": "text/x-python",
   "name": "python",
   "nbconvert_exporter": "python",
   "pygments_lexer": "ipython3",
   "version": "3.7.9"
  }
 },
 "nbformat": 4,
 "nbformat_minor": 4
}
