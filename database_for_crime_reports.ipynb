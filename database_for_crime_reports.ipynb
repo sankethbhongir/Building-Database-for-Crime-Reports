{
 "cells": [
  {
   "cell_type": "markdown",
   "metadata": {},
   "source": [
    "# Building Database for crime reports\n",
    "The goal of this project is to create a database named *crimes_db* with a table *boston_crimes* with appropriate datatypes for storing the data from the boston.csv file. We'll be creating the table inside a schema named *crimes*. We'll also create the *readonly* and *readwrite* groups with the appropriate privileges. Finally, we will also need to create one user for each of these groups."
   ]
  },
  {
   "cell_type": "code",
   "execution_count": 1,
   "metadata": {},
   "outputs": [],
   "source": [
    "import psycopg2\n",
    "\n",
    "conn = psycopg2.connect(dbname=\"dq\", user=\"dq\")\n",
    "conn.autocommit = True\n",
    "# creating crimes_db database\n",
    "cur =  conn.cursor()\n",
    "cur.execute('DROP DATABASE IF EXISTS crimes_db;')\n",
    "cur.execute('CREATE DATABASE crimes_db;')\n",
    "conn.close()"
   ]
  },
  {
   "cell_type": "code",
   "execution_count": 2,
   "metadata": {},
   "outputs": [],
   "source": [
    "conn = psycopg2.connect(dbname=\"crimes_db\", user=\"dq\")\n",
    "conn.autocommit = True\n",
    "# creating crimes schema in crimes_db\n",
    "cur =  conn.cursor()\n",
    "cur.execute('DROP SCHEMA IF EXISTS crimes;')\n",
    "cur.execute('CREATE SCHEMA crimes;')\n",
    "#conn.autocommit = False"
   ]
  },
  {
   "cell_type": "code",
   "execution_count": 3,
   "metadata": {},
   "outputs": [],
   "source": [
    "import csv\n",
    "# reading boston.csv file\n",
    "with open('boston.csv', 'r') as f:\n",
    "    rows = list(csv.reader(f))\n",
    "    col_header = rows[0]\n",
    "    first_row = rows[1]"
   ]
  },
  {
   "cell_type": "code",
   "execution_count": 4,
   "metadata": {},
   "outputs": [
    {
     "data": {
      "text/plain": [
       "(['incident_number',\n",
       "  'offense_code',\n",
       "  'description',\n",
       "  'date',\n",
       "  'day_of_the_week',\n",
       "  'lat',\n",
       "  'long'],\n",
       " ['1',\n",
       "  '619',\n",
       "  'LARCENY ALL OTHERS',\n",
       "  '2018-09-02',\n",
       "  'Sunday',\n",
       "  '42.35779134',\n",
       "  '-71.13937053'])"
      ]
     },
     "execution_count": 4,
     "metadata": {},
     "output_type": "execute_result"
    }
   ],
   "source": [
    "col_header, first_row"
   ]
  },
  {
   "cell_type": "code",
   "execution_count": 5,
   "metadata": {},
   "outputs": [
    {
     "data": {
      "text/plain": [
       "298329"
      ]
     },
     "execution_count": 5,
     "metadata": {},
     "output_type": "execute_result"
    }
   ],
   "source": [
    "# number of rows of data in CSV file\n",
    "len(rows[1:]) "
   ]
  },
  {
   "cell_type": "code",
   "execution_count": 6,
   "metadata": {},
   "outputs": [],
   "source": [
    "def get_col_value_set(csv_filename, col_index):\n",
    "    '''\n",
    "    args: \n",
    "    csv_filename- name of a CSV file\n",
    "    col_index- index of a column of that CSV file\n",
    "    \n",
    "    returns:\n",
    "    a Python set that contains all distinct values from that column\n",
    "    '''\n",
    "    col_set = set()\n",
    "    with open(csv_filename, 'r') as f:\n",
    "        rows = list(csv.reader(f))\n",
    "        for row in rows[1:]:\n",
    "            col_set.add(row[col_index])\n",
    "    return col_set"
   ]
  },
  {
   "cell_type": "code",
   "execution_count": 7,
   "metadata": {},
   "outputs": [
    {
     "name": "stdout",
     "output_type": "stream",
     "text": [
      "incident_number 298329\n",
      "offense_code 219\n",
      "description 239\n",
      "date 1177\n",
      "day_of_the_week 7\n",
      "lat 18177\n",
      "long 18177\n"
     ]
    }
   ],
   "source": [
    "# calculating no of values in a column\n",
    "for i in range(len(col_header)):\n",
    "    values = get_col_value_set('boston.csv', i)\n",
    "    print(col_header[i], len(values))"
   ]
  },
  {
   "cell_type": "code",
   "execution_count": 8,
   "metadata": {},
   "outputs": [
    {
     "name": "stdout",
     "output_type": "stream",
     "text": [
      "maximum length of a value in description column: 58\n"
     ]
    }
   ],
   "source": [
    "# finding longest value length in a description column\n",
    "max_len = 0\n",
    "for value in get_col_value_set('boston.csv', 2):\n",
    "    max_len = max(max_len, len(value))\n",
    "print('maximum length of a value in description column:', max_len)"
   ]
  },
  {
   "cell_type": "code",
   "execution_count": 9,
   "metadata": {},
   "outputs": [
    {
     "name": "stdout",
     "output_type": "stream",
     "text": [
      "['incident_number', 'offense_code', 'description', 'date', 'day_of_the_week', 'lat', 'long']\n",
      "['1', '619', 'LARCENY ALL OTHERS', '2018-09-02', 'Sunday', '42.35779134', '-71.13937053']\n"
     ]
    }
   ],
   "source": [
    "print(col_header)\n",
    "print(first_row)"
   ]
  },
  {
   "cell_type": "code",
   "execution_count": 10,
   "metadata": {},
   "outputs": [],
   "source": [
    "# creating the enumerated datatype for representing the weekday\n",
    "cur.execute('''\n",
    "    CREATE TYPE day_of_week_enum AS ENUM(\n",
    "        'Sunday', 'Monday', 'Tuesday', 'Wednesday', \n",
    "        'Thursday', 'Friday', 'Saturday' );''')\n",
    "\n",
    "# creating boston_crimes table in crimes schema\n",
    "cur.execute(''' \n",
    "    CREATE TABLE crimes.boston_crimes(\n",
    "                incident_number INTEGER PRIMARY KEY,\n",
    "                offense_code INTEGER,\n",
    "                description VARCHAR(100),\n",
    "                date DATE,\n",
    "                day_of_the_week day_of_week_enum,\n",
    "                lat DECIMAL,\n",
    "                long DECIMAL);''')\n"
   ]
  },
  {
   "cell_type": "code",
   "execution_count": 11,
   "metadata": {},
   "outputs": [],
   "source": [
    "# loading boston.csv data into boston_crimes table\n",
    "with open('boston.csv', 'r') as f:\n",
    "    cur.copy_expert(\"COPY crimes.boston_crimes FROM STDIN WITH CSV HEADER;\", f)"
   ]
  },
  {
   "cell_type": "code",
   "execution_count": 12,
   "metadata": {},
   "outputs": [],
   "source": [
    "# revoking public privileges\n",
    "cur.execute(\"REVOKE ALL ON SCHEMA public FROM public;\")\n",
    "cur.execute(\"REVOKE ALL ON DATABASE crimes_db FROM public;\")"
   ]
  },
  {
   "cell_type": "code",
   "execution_count": 13,
   "metadata": {},
   "outputs": [],
   "source": [
    "# creating readonly and granting necessary accesses\n",
    "cur.execute(\"CREATE GROUP readonly NOLOGIN;\")\n",
    "cur.execute(\"GRANT CONNECT ON DATABASE crimes_db TO readonly;\")\n",
    "cur.execute(\"GRANT USAGE ON SCHEMA crimeS TO readonly;\")\n",
    "cur.execute(\"GRANT SELECT ON ALL TABLES IN SCHEMA crimes TO readonly;\")"
   ]
  },
  {
   "cell_type": "code",
   "execution_count": 14,
   "metadata": {},
   "outputs": [],
   "source": [
    "# creating readwrite and granting necessary accesses\n",
    "cur.execute(\"CREATE GROUP readwrite NOLOGIN;\")\n",
    "cur.execute(\"GRANT CONNECT ON DATABASE crimes_db TO readwrite;\")\n",
    "cur.execute(\"GRANT USAGE ON SCHEMA crimeS TO readwrite;\")\n",
    "cur.execute(\"GRANT SELECT, INSERT, DELETE, UPDATE ON ALL TABLES IN SCHEMA crimes TO readwrite;\")"
   ]
  },
  {
   "cell_type": "code",
   "execution_count": 16,
   "metadata": {},
   "outputs": [],
   "source": [
    "# creating data_analyst user and assinging to readonly group\n",
    "cur.execute(\"CREATE USER data_analyst WITH PASSWORD 'secret1';\")\n",
    "cur.execute(\"GRANT readonly TO data_analyst;\")\n",
    "\n",
    "# creating data_scientist user and assinging to readwrite group\n",
    "cur.execute(\"CREATE USER data_scientist WITH PASSWORD 'secret2';\")\n",
    "cur.execute(\"GRANT readwrite TO data_scientist;\")"
   ]
  },
  {
   "cell_type": "code",
   "execution_count": null,
   "metadata": {},
   "outputs": [],
   "source": []
  }
 ],
 "metadata": {
  "kernelspec": {
   "display_name": "Python 3",
   "language": "python",
   "name": "python3"
  },
  "language_info": {
   "codemirror_mode": {
    "name": "ipython",
    "version": 3
   },
   "file_extension": ".py",
   "mimetype": "text/x-python",
   "name": "python",
   "nbconvert_exporter": "python",
   "pygments_lexer": "ipython3",
   "version": "3.8.2"
  }
 },
 "nbformat": 4,
 "nbformat_minor": 2
}
